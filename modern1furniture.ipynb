{
 "cells": [
  {
   "cell_type": "code",
   "execution_count": null,
   "metadata": {},
   "outputs": [],
   "source": [
    "from selenium import webdriver\n",
    "from selenium.webdriver.common.by import By\n",
    "import pandas as pd\n",
    "import urllib.parse as urlparse\n",
    "import uuid\n",
    "import pandas as pd\n"
   ]
  },
  {
   "cell_type": "code",
   "execution_count": null,
   "metadata": {},
   "outputs": [],
   "source": [
    "\n",
    "page_links = []\n",
    "card_links = []\n",
    "all_image_links = []\n",
    "titles=[]\n"
   ]
  },
  {
   "cell_type": "code",
   "execution_count": null,
   "metadata": {},
   "outputs": [],
   "source": [
    "\n",
    "driver = webdriver.Chrome() #give relevant path\n",
    "base_url = 'https://www.idealhome.co.uk/bedroom/page/' # website to be scraped\n"
   ]
  },
  {
   "cell_type": "code",
   "execution_count": null,
   "metadata": {},
   "outputs": [],
   "source": [
    "\n",
    "for i in range(9): \n",
    "    url = base_url+str(i)\n",
    "    driver.get(url)\n",
    "    cards = driver.find_element(By.CLASS_NAME, 'listing__list').find_elements(By.CLASS_NAME, 'listing__item')\n",
    "    for card in cards:\n",
    "        card_link = card.find_element(By.TAG_NAME, 'a')\n",
    "        card_links.append(card_link.get_attribute('href'))\n"
   ]
  },
  {
   "cell_type": "code",
   "execution_count": null,
   "metadata": {},
   "outputs": [],
   "source": [
    "\n",
    "for link in card_links:\n",
    "    driver.get(link)\n",
    "    image_elements = driver.find_element(By.CLASS_NAME, 'article__body').find_elements(By.TAG_NAME, 'img')\n",
    "    for image in image_elements:\n",
    "        img_link = image.get_attribute('data-pin-media')\n",
    "        img_title = image.get_attribute('alt')\n",
    "        all_image_links.append(img_link)\n",
    "        titles.append(img_title)\n",
    "        page_links.append(link)\n",
    "\n"
   ]
  },
  {
   "cell_type": "code",
   "execution_count": null,
   "metadata": {},
   "outputs": [],
   "source": [
    "\n",
    "uuids = [uuid.uuid4() for i in range(len(all_image_links))]\n",
    "df = pd.DataFrame(columns=['UUID','PAGE_URL', 'IMAGE_URL','TITLE/Desc'])\n",
    "df['UUID'] = uuids\n",
    "df['PAGE_URL'] = page_links + [None] * (len(uuids) - len(page_links))\n",
    "df['IMAGE_URL'] = all_image_links\n",
    "df['TITLE/Desc'] = titles\n",
    "df.to_csv('ideal-home.csv')"
   ]
  }
 ],
 "metadata": {
  "language_info": {
   "name": "python"
  }
 },
 "nbformat": 4,
 "nbformat_minor": 2
}
