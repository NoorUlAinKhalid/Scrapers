{
 "cells": [
  {
   "cell_type": "code",
   "execution_count": 2,
   "metadata": {},
   "outputs": [],
   "source": [
    "from selenium import webdriver\n",
    "from selenium.webdriver.common.by import By\n",
    "from selenium.webdriver.support.ui import WebDriverWait\n",
    "from selenium.webdriver.support import expected_conditions as EC\n",
    "import uuid\n"
   ]
  },
  {
   "cell_type": "code",
   "execution_count": 5,
   "metadata": {},
   "outputs": [],
   "source": [
    "page_url =[]\n",
    "image_url = []\n",
    "image_title = []\n",
    "uuids = []\n",
    "card_links = []"
   ]
  },
  {
   "cell_type": "code",
   "execution_count": 4,
   "metadata": {},
   "outputs": [],
   "source": [
    "driver = webdriver.Chrome()\n",
    "base_url = 'https://modern1furniture.com/product-category/bedroom/beds-and-bedrooms/?filter_product-type=beds'\n",
    "#  https://modern1furniture.com/product-category/bedroom/beds-and-bedrooms/page/8/?filter_product-type=beds\n"
   ]
  },
  {
   "cell_type": "code",
   "execution_count": 6,
   "metadata": {},
   "outputs": [],
   "source": [
    "\n",
    "for i in range(1, 9):\n",
    "    url = f'https://modern1furniture.com/product-category/bedroom/beds-and-bedrooms/page/{i}/?filter_product-type=beds'\n",
    "    driver.get(url)\n",
    "    card_element = driver.find_elements(By.CLASS_NAME,'mf-product-thumbnail')\n",
    "    for card in card_element:\n",
    "        card_links.append(card.find_element(By.TAG_NAME,'a').get_attribute('href'))"
   ]
  },
  {
   "cell_type": "code",
   "execution_count": 7,
   "metadata": {},
   "outputs": [
    {
     "name": "stdout",
     "output_type": "stream",
     "text": [
      "358\n"
     ]
    }
   ],
   "source": [
    "print(len(card_links))\n"
   ]
  },
  {
   "cell_type": "code",
   "execution_count": 8,
   "metadata": {},
   "outputs": [],
   "source": [
    "for link in card_links:\n",
    "    \n",
    "    driver.get(link)\n",
    "    img_elements = driver.find_elements(By.CLASS_NAME,'slick-slide')\n",
    "    for image_ in img_elements:\n",
    "        img_link = image_.find_element(By.TAG_NAME, 'img').get_attribute('src')\n",
    "        img_title = link.split('/')[-1]\n",
    "        if 'transparent' in img_link:\n",
    "            continue\n",
    "        else:\n",
    "            page_url.append(link)\n",
    "            image_url.append(img_link)\n",
    "            image_title.append(img_title)"
   ]
  },
  {
   "cell_type": "code",
   "execution_count": 9,
   "metadata": {},
   "outputs": [],
   "source": [
    "for i in image_url:\n",
    "    i = i.replace('-100x100','')"
   ]
  },
  {
   "cell_type": "code",
   "execution_count": 10,
   "metadata": {},
   "outputs": [],
   "source": [
    "uuids = [uuid.uuid4() for i in range(len(image_url))]"
   ]
  },
  {
   "cell_type": "code",
   "execution_count": 11,
   "metadata": {},
   "outputs": [],
   "source": [
    "data = {'UUID':uuids, 'PAGE_URL':page_url, 'IMAGE_URL':image_url, 'TITLE/Desc':image_title}"
   ]
  },
  {
   "cell_type": "code",
   "execution_count": 12,
   "metadata": {},
   "outputs": [
    {
     "name": "stdout",
     "output_type": "stream",
     "text": [
      "4607\n"
     ]
    }
   ],
   "source": [
    "print(len(image_title))\n"
   ]
  },
  {
   "cell_type": "code",
   "execution_count": 13,
   "metadata": {},
   "outputs": [],
   "source": [
    "import pandas as pd\n",
    "df = pd.DataFrame(columns=['UUID','PAGE_URL', 'IMAGE_URL','TITLE/Desc'])\n",
    "df['UUID'] = uuids\n",
    "df['PAGE_URL'] = page_url #+ [None] * (len(uuids) - len(page_links))\n",
    "df['IMAGE_URL'] = image_url\n",
    "df['TITLE/Desc'] = image_title"
   ]
  },
  {
   "cell_type": "code",
   "execution_count": 14,
   "metadata": {},
   "outputs": [],
   "source": [
    "df.to_csv('modern1furniture.csv')"
   ]
  },
  {
   "cell_type": "code",
   "execution_count": 15,
   "metadata": {},
   "outputs": [
    {
     "name": "stdout",
     "output_type": "stream",
     "text": [
      "4607\n"
     ]
    }
   ],
   "source": [
    "print(len(image_url))\n"
   ]
  }
 ],
 "metadata": {
  "kernelspec": {
   "display_name": "Python 3",
   "language": "python",
   "name": "python3"
  },
  "language_info": {
   "codemirror_mode": {
    "name": "ipython",
    "version": 3
   },
   "file_extension": ".py",
   "mimetype": "text/x-python",
   "name": "python",
   "nbconvert_exporter": "python",
   "pygments_lexer": "ipython3",
   "version": "3.11.5"
  },
  "orig_nbformat": 4
 },
 "nbformat": 4,
 "nbformat_minor": 2
}
